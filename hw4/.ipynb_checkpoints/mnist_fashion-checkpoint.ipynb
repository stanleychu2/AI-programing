{
 "cells": [
  {
   "cell_type": "code",
   "execution_count": 1,
   "metadata": {},
   "outputs": [],
   "source": [
    "%matplotlib inline\n",
    "\n",
    "import numpy as np\n",
    "import matplotlib.pyplot as plt\n",
    "import tensorflow.keras as keras"
   ]
  },
  {
   "cell_type": "code",
   "execution_count": 2,
   "metadata": {},
   "outputs": [
    {
     "name": "stderr",
     "output_type": "stream",
     "text": [
      "Using TensorFlow backend.\n"
     ]
    }
   ],
   "source": [
    "from keras.datasets import fashion_mnist\n",
    "\n",
    "(x_train, y_train), (x_test, y_test) = fashion_mnist.load_data()"
   ]
  },
  {
   "cell_type": "code",
   "execution_count": 3,
   "metadata": {},
   "outputs": [],
   "source": [
    "class_names = ['T-shirt/top', 'Trouser', 'Pullover', 'Dress', 'Coat',\n",
    "               'Sandal', 'Shirt', 'Sneaker', 'Bag', 'Ankle boot']\n",
    "NUM_CLASS = len(class_names)"
   ]
  },
  {
   "cell_type": "code",
   "execution_count": 4,
   "metadata": {},
   "outputs": [
    {
     "data": {
      "text/plain": [
       "((60000, 28, 28), (10000, 28, 28))"
      ]
     },
     "execution_count": 4,
     "metadata": {},
     "output_type": "execute_result"
    }
   ],
   "source": [
    "x_train.shape, x_test.shape"
   ]
  },
  {
   "cell_type": "code",
   "execution_count": 5,
   "metadata": {},
   "outputs": [],
   "source": [
    "x_train = x_train.reshape(60000, 28, 28, 1) / 255\n",
    "x_test = x_test.reshape(10000, 28, 28, 1) / 255"
   ]
  },
  {
   "cell_type": "code",
   "execution_count": 6,
   "metadata": {},
   "outputs": [],
   "source": [
    "from tensorflow.keras.utils import to_categorical\n",
    "\n",
    "y_train = to_categorical(y_train, 10)\n",
    "y_test = to_categorical(y_test, 10)"
   ]
  },
  {
   "cell_type": "code",
   "execution_count": 7,
   "metadata": {},
   "outputs": [],
   "source": [
    "from keras.models import Model\n",
    "from keras.layers import Dense, Convolution2D, Flatten, MaxPooling2D, Dropout, BatchNormalization, Activation\n",
    "from keras.optimizers import Adam\n",
    "from keras import Input\n",
    "\n",
    "fashion_input = Input(shape=(28, 28, 1), name=\"input\")\n",
    "c1 = Convolution2D(filters=5, kernel_size=(3, 3), activation=\"relu\", padding=\"same\", name=\"c1\")(fashion_input)\n",
    "m1 = MaxPooling2D(pool_size=(2,2), name=\"m1\")(c1)\n",
    "c2 = Convolution2D(filters=10, kernel_size=(3, 3), activation=\"relu\", padding=\"same\", name=\"c2\")(m1)\n",
    "m2 = MaxPooling2D(pool_size=(2,2), name=\"m2\")(c2)\n",
    "d1 = Dropout(0.3, name=\"d1\")(m2)\n",
    "c3 = Convolution2D(filters=20, kernel_size=(3, 3), padding=\"same\", name=\"c3\")(d1)\n",
    "# batch nornalization need to be before activation\n",
    "n1 = BatchNormalization(name=\"n1\")(c3)\n",
    "a1 = Activation(\"relu\", name=\"a1\")(n1)\n",
    "flatten = Flatten(name=\"flatten\")(a1)\n",
    "h1 = Dense(units=16, activation=\"relu\", name=\"h1\")(flatten)\n",
    "h2 = Dense(units=32, activation=\"relu\", name=\"h2\")(h1)\n",
    "h3 = Dense(units=64, activation=\"relu\", name=\"h3\")(h2)\n",
    "output = Dense(units=NUM_CLASS, activation=\"softmax\", name=\"output\")(h3)\n",
    "model = Model(inputs=[fashion_input], outputs=output)"
   ]
  },
  {
   "cell_type": "code",
   "execution_count": 8,
   "metadata": {},
   "outputs": [
    {
     "name": "stdout",
     "output_type": "stream",
     "text": [
      "Model: \"model_1\"\n",
      "_________________________________________________________________\n",
      "Layer (type)                 Output Shape              Param #   \n",
      "=================================================================\n",
      "input (InputLayer)           (None, 28, 28, 1)         0         \n",
      "_________________________________________________________________\n",
      "c1 (Conv2D)                  (None, 28, 28, 5)         50        \n",
      "_________________________________________________________________\n",
      "m1 (MaxPooling2D)            (None, 14, 14, 5)         0         \n",
      "_________________________________________________________________\n",
      "c2 (Conv2D)                  (None, 14, 14, 10)        460       \n",
      "_________________________________________________________________\n",
      "m2 (MaxPooling2D)            (None, 7, 7, 10)          0         \n",
      "_________________________________________________________________\n",
      "d1 (Dropout)                 (None, 7, 7, 10)          0         \n",
      "_________________________________________________________________\n",
      "c3 (Conv2D)                  (None, 7, 7, 20)          1820      \n",
      "_________________________________________________________________\n",
      "n1 (BatchNormalization)      (None, 7, 7, 20)          80        \n",
      "_________________________________________________________________\n",
      "a1 (Activation)              (None, 7, 7, 20)          0         \n",
      "_________________________________________________________________\n",
      "flatten (Flatten)            (None, 980)               0         \n",
      "_________________________________________________________________\n",
      "h1 (Dense)                   (None, 16)                15696     \n",
      "_________________________________________________________________\n",
      "h2 (Dense)                   (None, 32)                544       \n",
      "_________________________________________________________________\n",
      "h3 (Dense)                   (None, 64)                2112      \n",
      "_________________________________________________________________\n",
      "output (Dense)               (None, 10)                650       \n",
      "=================================================================\n",
      "Total params: 21,412\n",
      "Trainable params: 21,372\n",
      "Non-trainable params: 40\n",
      "_________________________________________________________________\n"
     ]
    }
   ],
   "source": [
    "model.summary()"
   ]
  },
  {
   "cell_type": "code",
   "execution_count": 9,
   "metadata": {},
   "outputs": [],
   "source": [
    "model.compile(loss=\"categorical_crossentropy\", optimizer=Adam(lr=0.002), metrics=[\"accuracy\"])"
   ]
  },
  {
   "cell_type": "code",
   "execution_count": 10,
   "metadata": {},
   "outputs": [
    {
     "name": "stdout",
     "output_type": "stream",
     "text": [
      "Epoch 1/20\n",
      "60000/60000 [==============================] - 27s 445us/step - loss: 0.5538 - accuracy: 0.7896\n",
      "Epoch 2/20\n",
      "60000/60000 [==============================] - 24s 406us/step - loss: 0.3963 - accuracy: 0.8527\n",
      "Epoch 3/20\n",
      "60000/60000 [==============================] - 23s 389us/step - loss: 0.3601 - accuracy: 0.8662\n",
      "Epoch 4/20\n",
      "60000/60000 [==============================] - 23s 385us/step - loss: 0.3426 - accuracy: 0.8716\n",
      "Epoch 5/20\n",
      "60000/60000 [==============================] - 23s 376us/step - loss: 0.3306 - accuracy: 0.8778\n",
      "Epoch 6/20\n",
      "60000/60000 [==============================] - 23s 381us/step - loss: 0.3156 - accuracy: 0.8812\n",
      "Epoch 7/20\n",
      "60000/60000 [==============================] - 25s 410us/step - loss: 0.3080 - accuracy: 0.8838\n",
      "Epoch 8/20\n",
      "60000/60000 [==============================] - 23s 380us/step - loss: 0.2988 - accuracy: 0.8887\n",
      "Epoch 9/20\n",
      "60000/60000 [==============================] - 23s 385us/step - loss: 0.2924 - accuracy: 0.8900\n",
      "Epoch 10/20\n",
      "60000/60000 [==============================] - 23s 389us/step - loss: 0.2870 - accuracy: 0.8918\n",
      "Epoch 11/20\n",
      "60000/60000 [==============================] - 23s 380us/step - loss: 0.2851 - accuracy: 0.8925\n",
      "Epoch 12/20\n",
      "60000/60000 [==============================] - 23s 390us/step - loss: 0.2822 - accuracy: 0.8937\n",
      "Epoch 13/20\n",
      "60000/60000 [==============================] - 23s 387us/step - loss: 0.2764 - accuracy: 0.8954\n",
      "Epoch 14/20\n",
      "60000/60000 [==============================] - 23s 385us/step - loss: 0.2764 - accuracy: 0.8953\n",
      "Epoch 15/20\n",
      "60000/60000 [==============================] - 23s 392us/step - loss: 0.2716 - accuracy: 0.8997\n",
      "Epoch 16/20\n",
      "60000/60000 [==============================] - 31s 522us/step - loss: 0.2656 - accuracy: 0.9003\n",
      "Epoch 17/20\n",
      "60000/60000 [==============================] - 27s 446us/step - loss: 0.2648 - accuracy: 0.8993\n",
      "Epoch 18/20\n",
      "60000/60000 [==============================] - 23s 387us/step - loss: 0.2658 - accuracy: 0.9003\n",
      "Epoch 19/20\n",
      "60000/60000 [==============================] - 24s 406us/step - loss: 0.2625 - accuracy: 0.8995\n",
      "Epoch 20/20\n",
      "60000/60000 [==============================] - 26s 433us/step - loss: 0.2607 - accuracy: 0.9012\n"
     ]
    }
   ],
   "source": [
    "history = model.fit(x_train, y_train, batch_size=64, epochs=20)"
   ]
  },
  {
   "cell_type": "code",
   "execution_count": 11,
   "metadata": {},
   "outputs": [
    {
     "name": "stdout",
     "output_type": "stream",
     "text": [
      "10000/10000 [==============================] - 1s 150us/step\n"
     ]
    }
   ],
   "source": [
    "loss, score = model.evaluate(x_test, y_test)"
   ]
  },
  {
   "cell_type": "code",
   "execution_count": 12,
   "metadata": {},
   "outputs": [
    {
     "name": "stdout",
     "output_type": "stream",
     "text": [
      "loss: 0.27\n",
      "score: 90.00%\n"
     ]
    }
   ],
   "source": [
    "print(f\"loss:{loss: .2f}\\nscore:{score*100: .2f}%\")"
   ]
  },
  {
   "cell_type": "code",
   "execution_count": 13,
   "metadata": {},
   "outputs": [
    {
     "data": {
      "text/plain": [
       "[<matplotlib.lines.Line2D at 0x14f648810>]"
      ]
     },
     "execution_count": 13,
     "metadata": {},
     "output_type": "execute_result"
    },
    {
     "data": {
      "image/png": "[encoded data removed]",
      "text/plain": [
       "<Figure size 432x288 with 1 Axes>"
      ]
     },
     "metadata": {
      "needs_background": "light"
     },
     "output_type": "display_data"
    }
   ],
   "source": [
    "plt.plot(np.arange(1, 21), history.history[\"loss\"])"
   ]
  },
  {
   "cell_type": "code",
   "execution_count": 14,
   "metadata": {},
   "outputs": [
    {
     "data": {
      "text/plain": [
       "[<matplotlib.lines.Line2D at 0x1344ca610>]"
      ]
     },
     "execution_count": 14,
     "metadata": {},
     "output_type": "execute_result"
    },
    {
     "data": {
      "image/png": "[encoded data removed]",
      "text/plain": [
       "<Figure size 432x288 with 1 Axes>"
      ]
     },
     "metadata": {
      "needs_background": "light"
     },
     "output_type": "display_data"
    }
   ],
   "source": [
    "plt.plot(np.arange(1, 21), history.history[\"accuracy\"], c=\"brown\")"
   ]
  },
  {
   "cell_type": "code",
   "execution_count": null,
   "metadata": {},
   "outputs": [],
   "source": [
    "# Optimizer SGD --> Adam \n",
    "# batch_size 128 --> 32 --> 64\n",
    "# lr 0.005 --> 0.001 --> 0.002\n",
    "# epoch 10 --> 15 --> 20\n",
    "# add maxpooling dropout batchnormalization layer "
   ]
  }
 ],
 "metadata": {
  "kernelspec": {
   "display_name": "Python 3",
   "language": "python",
   "name": "python3"
  },
  "language_info": {
   "codemirror_mode": {
    "name": "ipython",
    "version": 3
   },
   "file_extension": ".py",
   "mimetype": "text/x-python",
   "name": "python",
   "nbconvert_exporter": "python",
   "pygments_lexer": "ipython3",
   "version": "3.7.6"
  }
 },
 "nbformat": 4,
 "nbformat_minor": 2
}
