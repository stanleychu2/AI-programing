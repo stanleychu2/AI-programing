{
 "cells": [
  {
   "cell_type": "markdown",
   "metadata": {},
   "source": [
    "# Word Embeddings"
   ]
  },
  {
   "cell_type": "markdown",
   "metadata": {},
   "source": [
    "## Environment Setup"
   ]
  },
  {
   "cell_type": "markdown",
   "metadata": {},
   "source": [
    "You may need to install the gensim package. \n",
    "\n",
    "pip install gensim\n",
    "or\n",
    "pip3 install gensim"
   ]
  },
  {
   "cell_type": "markdown",
   "metadata": {},
   "source": [
    "## Load Pre-trained Word Embeddings"
   ]
  },
  {
   "cell_type": "markdown",
   "metadata": {},
   "source": [
    "Load the pre-trained FastText word embedding provided by Facebook. https://fasttext.cc/docs/en/english-vectors.html\n",
    "\n",
    "Chinese \n",
    "https://dl.fbaipublicfiles.com/fasttext/vectors-crawl/cc.zh.300.vec.gz\n",
    "\n",
    "The attached version only contains top 5000 words. "
   ]
  },
  {
   "cell_type": "code",
   "execution_count": 17,
   "metadata": {},
   "outputs": [
    {
     "name": "stdout",
     "output_type": "stream",
     "text": [
      "Number of words: 5000\n"
     ]
    }
   ],
   "source": [
    "%matplotlib inline\n",
    "\n",
    "from gensim.models import KeyedVectors\n",
    "w2v = KeyedVectors.load_word2vec_format(\"wiki.en.5k.vec\", binary=False)\n",
    "print(\"Number of words: %d\" % len(w2v.vocab))"
   ]
  },
  {
   "cell_type": "markdown",
   "metadata": {},
   "source": [
    "## Word Similarity"
   ]
  },
  {
   "cell_type": "code",
   "execution_count": 4,
   "metadata": {},
   "outputs": [
    {
     "name": "stdout",
     "output_type": "stream",
     "text": [
      "(300,)\n"
     ]
    }
   ],
   "source": [
    "print(w2v[\"fast\"].shape)"
   ]
  },
  {
   "cell_type": "code",
   "execution_count": 5,
   "metadata": {},
   "outputs": [
    {
     "name": "stdout",
     "output_type": "stream",
     "text": [
      "[ 9.6523e-03  2.9594e-01  8.7192e-02  1.4251e-02 -6.2758e-01  1.4494e-01\n",
      " -3.1512e-04 -4.3654e-01 -1.4803e-01 -3.5733e-01 -2.8666e-01 -1.9130e-01\n",
      "  9.8917e-02 -2.0994e-01  2.0118e-01 -2.8731e-01  1.0561e-01 -4.0479e-03\n",
      "  5.5040e-01  1.7419e-01 -1.5684e-01  2.4033e-01  1.0947e-01 -1.7691e-02\n",
      " -2.8782e-01  5.1930e-01  2.8683e-01  5.9717e-02 -1.8463e-01 -3.3210e-01\n",
      " -3.2824e-01  2.1625e-01 -1.5339e-01  6.8707e-01 -4.2779e-01  1.6954e-01\n",
      "  1.2408e-01 -3.6369e-01  4.0434e-01  4.6514e-01 -6.4378e-01 -2.6312e-01\n",
      "  1.8545e-01  1.6788e-01  1.3870e-01  6.9593e-02 -7.0434e-02 -4.8797e-02\n",
      " -1.1680e-01 -2.6751e-01  2.0893e-01 -3.1818e-01 -1.1809e-01 -7.2132e-02\n",
      " -4.1897e-01  1.0179e-01 -7.4415e-03  3.5534e-01  7.0169e-02  2.5135e-01\n",
      "  1.2294e-01 -9.1569e-02 -4.0842e-02 -2.3755e-01  5.4077e-02 -2.4699e-01\n",
      " -3.5040e-01 -2.5217e-01  1.2314e-01  3.9869e-02  2.5982e-02 -2.6672e-01\n",
      "  6.1487e-02  5.2644e-02 -3.6487e-01  4.8748e-01  5.0030e-01  3.7484e-01\n",
      "  7.6510e-02  1.4107e-01 -1.2549e-01 -3.0338e-02  3.4975e-02 -3.0483e-01\n",
      " -7.8405e-02 -2.6523e-01 -5.2463e-01  5.4873e-01  3.1705e-02  2.7283e-01\n",
      "  1.8115e-01 -2.1256e-01  2.9584e-01 -1.8590e-01  1.0925e-01  1.8754e-02\n",
      " -5.8304e-01  1.2989e-01 -1.5034e-02 -3.6848e-01  1.4093e-01  1.8796e-01\n",
      "  3.3456e-01 -2.6100e-01 -4.1059e-01  7.0917e-02 -1.1608e-01  3.0808e-01\n",
      "  2.4176e-01  6.4659e-02  8.0909e-03 -2.4954e-01  6.0331e-01 -1.1735e-01\n",
      "  1.5585e-01 -7.4365e-02 -2.3927e-01 -2.0352e-01  2.9225e-01 -2.0683e-01\n",
      "  2.5730e-01 -2.2697e-01 -1.3582e-01  1.2365e-01  5.1500e-01 -3.8673e-02\n",
      " -3.2073e-02 -1.1763e-01 -2.4624e-01 -2.1793e-01  2.1019e-01  4.9852e-02\n",
      "  2.0812e-01 -4.9074e-02  2.1422e-01  2.8391e-01 -2.3564e-01 -1.1722e-01\n",
      " -5.1890e-02  5.0016e-01  1.3438e-01 -1.2130e-02 -1.0971e-01  4.4193e-01\n",
      "  6.6878e-02  3.7237e-01  5.0562e-01 -3.0633e-02  2.7693e-01  3.3441e-01\n",
      "  4.7540e-02 -1.1416e-01 -3.1516e-01  2.9750e-02 -2.7162e-01  1.0309e-01\n",
      "  1.0878e-02 -2.8785e-01  9.3577e-02  2.4536e-01  4.5684e-01  1.6401e-01\n",
      " -3.3714e-01  1.7897e-01  7.0318e-01  4.0167e-02 -5.5359e-02  2.6282e-02\n",
      "  4.7133e-01  3.2762e-01  8.4115e-03 -1.1981e-01 -2.3564e-01 -7.5251e-02\n",
      "  2.5871e-01 -5.9482e-01 -2.5007e-02 -2.1002e-02  3.5705e-01  4.4600e-01\n",
      " -2.6596e-02  5.4596e-03  8.3103e-02 -1.6966e-01  2.0050e-01  4.2837e-02\n",
      "  1.3175e-01 -2.6859e-01  2.3041e-01 -8.2292e-02 -6.7622e-01 -4.4203e-01\n",
      "  2.6781e-01  4.6220e-01 -3.0663e-01 -2.0500e-01  1.4135e-01 -1.8173e-01\n",
      " -4.2665e-01  6.3585e-02  4.4941e-01 -1.0760e-01 -7.5692e-02 -1.2512e-01\n",
      "  3.7174e-01 -5.4252e-01 -1.0888e-01  9.3425e-02  6.7205e-01  3.5517e-01\n",
      "  3.3639e-01 -3.0976e-01  4.5757e-02 -3.8399e-01  5.1915e-02 -3.6973e-01\n",
      "  2.6851e-01 -3.0026e-01 -4.2189e-01  1.0450e-01 -1.5941e-01 -3.9549e-01\n",
      "  2.0662e-01 -7.3999e-02  1.7181e-01 -3.6790e-01 -5.5208e-01 -3.1249e-01\n",
      " -1.7508e-01 -1.6667e-01 -1.4078e-01 -2.5917e-02 -7.5833e-02  2.5673e-01\n",
      "  5.8753e-01 -1.7433e-01  5.6877e-02 -5.6656e-01 -3.0349e-01  5.0024e-02\n",
      "  5.6558e-02  1.4802e-01 -3.7620e-02 -2.2353e-02  1.3057e-01 -8.4798e-03\n",
      "  8.5063e-02  2.7326e-01 -2.1357e-01  2.7458e-01  5.2926e-01 -2.8615e-01\n",
      "  6.3463e-02 -9.7928e-02  3.5179e-01  5.7411e-01 -1.5099e-01 -3.8597e-01\n",
      "  5.1694e-01  2.2451e-01 -5.3734e-02 -1.2494e-01  1.7291e-01 -6.3553e-01\n",
      " -5.0112e-01 -4.3920e-01  2.9727e-01  2.4375e-01  1.2061e-01 -2.1322e-01\n",
      "  1.4090e-01  6.6010e-02 -6.6503e-02 -3.1777e-01 -1.1134e-01 -1.4056e-01\n",
      " -3.0090e-01  3.1443e-01  2.3985e-01  4.8350e-02  1.1584e-01 -3.4514e-02\n",
      "  5.1891e-02 -1.1821e-01  3.3497e-01  2.5008e-01 -7.3015e-02 -1.2232e-01\n",
      " -2.5211e-01  4.0237e-01 -3.9002e-01 -1.5639e-01 -2.0981e-01 -1.4468e-02\n",
      "  5.4258e-03 -1.1084e-01 -2.0970e-01 -2.8378e-01 -2.2145e-02 -2.5031e-01]\n"
     ]
    }
   ],
   "source": [
    "print(w2v[\"taiwan\"])"
   ]
  },
  {
   "cell_type": "code",
   "execution_count": 6,
   "metadata": {},
   "outputs": [
    {
     "ename": "KeyError",
     "evalue": "\"word 'taipei' not in vocabulary\"",
     "output_type": "error",
     "traceback": [
      "\u001b[0;31m---------------------------------------------------------------------------\u001b[0m",
      "\u001b[0;31mKeyError\u001b[0m                                  Traceback (most recent call last)",
      "\u001b[0;32m<ipython-input-6-871e56539298>\u001b[0m in \u001b[0;36m<module>\u001b[0;34m\u001b[0m\n\u001b[0;32m----> 1\u001b[0;31m \u001b[0mprint\u001b[0m\u001b[0;34m(\u001b[0m\u001b[0mw2v\u001b[0m\u001b[0;34m[\u001b[0m\u001b[0;34m\"taipei\"\u001b[0m\u001b[0;34m]\u001b[0m\u001b[0;34m)\u001b[0m\u001b[0;34m\u001b[0m\u001b[0;34m\u001b[0m\u001b[0m\n\u001b[0m",
      "\u001b[0;32m/usr/local/lib/python3.7/site-packages/gensim/models/keyedvectors.py\u001b[0m in \u001b[0;36m__getitem__\u001b[0;34m(self, entities)\u001b[0m\n\u001b[1;32m    351\u001b[0m         \u001b[0;32mif\u001b[0m \u001b[0misinstance\u001b[0m\u001b[0;34m(\u001b[0m\u001b[0mentities\u001b[0m\u001b[0;34m,\u001b[0m \u001b[0mstring_types\u001b[0m\u001b[0;34m)\u001b[0m\u001b[0;34m:\u001b[0m\u001b[0;34m\u001b[0m\u001b[0;34m\u001b[0m\u001b[0m\n\u001b[1;32m    352\u001b[0m             \u001b[0;31m# allow calls like trained_model['office'], as a shorthand for trained_model[['office']]\u001b[0m\u001b[0;34m\u001b[0m\u001b[0;34m\u001b[0m\u001b[0;34m\u001b[0m\u001b[0m\n\u001b[0;32m--> 353\u001b[0;31m             \u001b[0;32mreturn\u001b[0m \u001b[0mself\u001b[0m\u001b[0;34m.\u001b[0m\u001b[0mget_vector\u001b[0m\u001b[0;34m(\u001b[0m\u001b[0mentities\u001b[0m\u001b[0;34m)\u001b[0m\u001b[0;34m\u001b[0m\u001b[0;34m\u001b[0m\u001b[0m\n\u001b[0m\u001b[1;32m    354\u001b[0m \u001b[0;34m\u001b[0m\u001b[0m\n\u001b[1;32m    355\u001b[0m         \u001b[0;32mreturn\u001b[0m \u001b[0mvstack\u001b[0m\u001b[0;34m(\u001b[0m\u001b[0;34m[\u001b[0m\u001b[0mself\u001b[0m\u001b[0;34m.\u001b[0m\u001b[0mget_vector\u001b[0m\u001b[0;34m(\u001b[0m\u001b[0mentity\u001b[0m\u001b[0;34m)\u001b[0m \u001b[0;32mfor\u001b[0m \u001b[0mentity\u001b[0m \u001b[0;32min\u001b[0m \u001b[0mentities\u001b[0m\u001b[0;34m]\u001b[0m\u001b[0;34m)\u001b[0m\u001b[0;34m\u001b[0m\u001b[0;34m\u001b[0m\u001b[0m\n",
      "\u001b[0;32m/usr/local/lib/python3.7/site-packages/gensim/models/keyedvectors.py\u001b[0m in \u001b[0;36mget_vector\u001b[0;34m(self, word)\u001b[0m\n\u001b[1;32m    469\u001b[0m \u001b[0;34m\u001b[0m\u001b[0m\n\u001b[1;32m    470\u001b[0m     \u001b[0;32mdef\u001b[0m \u001b[0mget_vector\u001b[0m\u001b[0;34m(\u001b[0m\u001b[0mself\u001b[0m\u001b[0;34m,\u001b[0m \u001b[0mword\u001b[0m\u001b[0;34m)\u001b[0m\u001b[0;34m:\u001b[0m\u001b[0;34m\u001b[0m\u001b[0;34m\u001b[0m\u001b[0m\n\u001b[0;32m--> 471\u001b[0;31m         \u001b[0;32mreturn\u001b[0m \u001b[0mself\u001b[0m\u001b[0;34m.\u001b[0m\u001b[0mword_vec\u001b[0m\u001b[0;34m(\u001b[0m\u001b[0mword\u001b[0m\u001b[0;34m)\u001b[0m\u001b[0;34m\u001b[0m\u001b[0;34m\u001b[0m\u001b[0m\n\u001b[0m\u001b[1;32m    472\u001b[0m \u001b[0;34m\u001b[0m\u001b[0m\n\u001b[1;32m    473\u001b[0m     \u001b[0;32mdef\u001b[0m \u001b[0mwords_closer_than\u001b[0m\u001b[0;34m(\u001b[0m\u001b[0mself\u001b[0m\u001b[0;34m,\u001b[0m \u001b[0mw1\u001b[0m\u001b[0;34m,\u001b[0m \u001b[0mw2\u001b[0m\u001b[0;34m)\u001b[0m\u001b[0;34m:\u001b[0m\u001b[0;34m\u001b[0m\u001b[0;34m\u001b[0m\u001b[0m\n",
      "\u001b[0;32m/usr/local/lib/python3.7/site-packages/gensim/models/keyedvectors.py\u001b[0m in \u001b[0;36mword_vec\u001b[0;34m(self, word, use_norm)\u001b[0m\n\u001b[1;32m    466\u001b[0m             \u001b[0;32mreturn\u001b[0m \u001b[0mresult\u001b[0m\u001b[0;34m\u001b[0m\u001b[0;34m\u001b[0m\u001b[0m\n\u001b[1;32m    467\u001b[0m         \u001b[0;32melse\u001b[0m\u001b[0;34m:\u001b[0m\u001b[0;34m\u001b[0m\u001b[0;34m\u001b[0m\u001b[0m\n\u001b[0;32m--> 468\u001b[0;31m             \u001b[0;32mraise\u001b[0m \u001b[0mKeyError\u001b[0m\u001b[0;34m(\u001b[0m\u001b[0;34m\"word '%s' not in vocabulary\"\u001b[0m \u001b[0;34m%\u001b[0m \u001b[0mword\u001b[0m\u001b[0;34m)\u001b[0m\u001b[0;34m\u001b[0m\u001b[0;34m\u001b[0m\u001b[0m\n\u001b[0m\u001b[1;32m    469\u001b[0m \u001b[0;34m\u001b[0m\u001b[0m\n\u001b[1;32m    470\u001b[0m     \u001b[0;32mdef\u001b[0m \u001b[0mget_vector\u001b[0m\u001b[0;34m(\u001b[0m\u001b[0mself\u001b[0m\u001b[0;34m,\u001b[0m \u001b[0mword\u001b[0m\u001b[0;34m)\u001b[0m\u001b[0;34m:\u001b[0m\u001b[0;34m\u001b[0m\u001b[0;34m\u001b[0m\u001b[0m\n",
      "\u001b[0;31mKeyError\u001b[0m: \"word 'taipei' not in vocabulary\""
     ]
    }
   ],
   "source": [
    "print(w2v[\"taipei\"])"
   ]
  },
  {
   "cell_type": "code",
   "execution_count": 7,
   "metadata": {},
   "outputs": [
    {
     "name": "stdout",
     "output_type": "stream",
     "text": [
      "0.60910374\n",
      "0.45045793\n",
      "0.27487028\n",
      "0.67041725\n",
      "0.33816254\n",
      "0.3600589\n",
      "0.46580055\n",
      "0.52325076\n",
      "0.30507404\n",
      "0.6153761\n",
      "0.3688634\n",
      "0.6424498\n",
      "0.53335226\n",
      "0.09129018\n"
     ]
    }
   ],
   "source": [
    "print(w2v.similarity(\"nice\", \"good\"))\n",
    "print(w2v.similarity(\"nice\", \"bad\"))\n",
    "print(w2v.similarity(\"nice\", \"fast\"))\n",
    "\n",
    "print(w2v.similarity(\"good\", \"bad\"))\n",
    "\n",
    "\n",
    "print(w2v.similarity(\"red\", \"sky\"))\n",
    "print(w2v.similarity(\"yellow\", \"sky\"))\n",
    "print(w2v.similarity(\"blue\", \"sky\"))\n",
    "\n",
    "print(w2v.similarity(\"tiger\", \"lion\"))\n",
    "print(w2v.similarity(\"tiger\", \"bird\"))\n",
    "\n",
    "print(w2v.similarity(\"france\", \"paris\"))\n",
    "print(w2v.similarity(\"italy\", \"paris\"))\n",
    "print(w2v.similarity(\"italy\", \"rome\"))\n",
    "print(w2v.similarity(\"paris\", \"rome\"))\n",
    "print(w2v.similarity(\"good\", \"paris\"))"
   ]
  },
  {
   "cell_type": "markdown",
   "metadata": {},
   "source": [
    "Most similar words"
   ]
  },
  {
   "cell_type": "code",
   "execution_count": 8,
   "metadata": {},
   "outputs": [
    {
     "name": "stdout",
     "output_type": "stream",
     "text": [
      "[('excellent', 0.7223856449127197), ('bad', 0.670417308807373), ('nice', 0.6091036796569824), ('better', 0.5967727303504944), ('perfect', 0.5752175450325012), ('reasonable', 0.5712679028511047), ('faith', 0.5607122778892517), ('helpful', 0.5578593611717224), ('poor', 0.5506518483161926), ('definitely', 0.5472526550292969)]\n",
      "[('france', 0.6153761148452759), ('vienna', 0.5634822845458984), ('berlin', 0.5617252588272095), ('london', 0.5515710115432739), ('munich', 0.5390844345092773), ('rome', 0.5333521366119385), ('madrid', 0.526411235332489), ('moscow', 0.5238058567047119), ('prague', 0.5211637020111084), ('french', 0.5190050601959229)]\n",
      "[('tigers', 0.598285436630249), ('cats', 0.5247116088867188), ('lion', 0.5232506990432739), ('lions', 0.49344366788864136), ('hamilton', 0.46046364307403564), ('dragon', 0.4476792514324188), ('cat', 0.43086451292037964), ('woods', 0.43060773611068726), ('bear', 0.4008936882019043), ('wolf', 0.3999537229537964)]\n",
      "[('dogs', 0.8104336857795715), ('cat', 0.6380516886711121), ('animal', 0.5635776519775391), ('horse', 0.5425455570220947), ('wolf', 0.5273684859275818), ('cats', 0.5070070028305054), ('animals', 0.5013708472251892), ('horses', 0.48973751068115234), ('bear', 0.47085821628570557), ('hunting', 0.4570276141166687)]\n",
      "[('left', 0.6660147905349731), ('hand', 0.5235728025436401), ('handed', 0.512216329574585), ('wrong', 0.47229379415512085), ('arm', 0.45911315083503723), ('just', 0.4399382174015045), ('bottom', 0.4254627525806427), ('exactly', 0.4170149862766266), ('align', 0.4089397192001343), ('way', 0.4043542742729187)]\n"
     ]
    }
   ],
   "source": [
    "print(w2v.most_similar(\"good\"))\n",
    "print(w2v.most_similar(\"paris\"))\n",
    "print(w2v.most_similar(\"tiger\"))\n",
    "print(w2v.most_similar(\"dog\"))\n",
    "print(w2v.most_similar(\"right\"))"
   ]
  },
  {
   "cell_type": "markdown",
   "metadata": {},
   "source": [
    "### Analogy"
   ]
  },
  {
   "cell_type": "code",
   "execution_count": 9,
   "metadata": {},
   "outputs": [
    {
     "name": "stdout",
     "output_type": "stream",
     "text": [
      "[('rome', 0.9118089079856873), ('milan', 0.8868755102157593), ('vienna', 0.8417394757270813), ('venice', 0.8385934829711914), ('florence', 0.8238525986671448), ('munich', 0.8000103831291199), ('prague', 0.7927053570747375), ('italian', 0.784573495388031), ('madrid', 0.7796933054924011), ('athens', 0.779522180557251)]\n",
      "[('paris', 1.0550767183303833), ('rome', 0.8601745367050171), ('munich', 0.8483597636222839), ('amsterdam', 0.8383407592773438), ('berlin', 0.8285968899726868), ('venice', 0.8250126242637634), ('french', 0.816684365272522), ('barcelona', 0.8140461444854736), ('england', 0.8124414086341858), ('vienna', 0.8115441799163818)]\n",
      "[('queen', 0.8924742341041565), ('princess', 0.8137581944465637), ('kings', 0.8062561750411987), ('reign', 0.7818456888198853), ('kingdom', 0.7693678736686707), ('throne', 0.7536834478378296), ('royal', 0.7402398586273193), ('prince', 0.7384786009788513), ('crown', 0.7332648634910583), ('elizabeth', 0.7213146090507507)]\n",
      "[('tea', 0.8334957361221313), ('beer', 0.8212700486183167), ('sugar', 0.8099021911621094), ('milk', 0.7977914810180664), ('wine', 0.7942050099372864), ('fruit', 0.7887060046195984), ('food', 0.7804027795791626), ('rice', 0.7542923092842102), ('restaurant', 0.7530092597007751), ('restaurants', 0.7307345271110535)]\n",
      "[('vehicles', 0.9059292674064636), ('cars', 0.9036244750022888), ('vehicle', 0.8967863917350769), ('motor', 0.8891515731811523), ('locomotives', 0.8754465579986572), ('engines', 0.8740256428718567), ('passenger', 0.8730894327163696), ('engine', 0.8665419816970825), ('diesel', 0.863068163394928), ('car', 0.8622881770133972)]\n",
      "[('good', 0.8663628101348877), ('wrong', 0.8139793276786804), ('hoax', 0.8080534338951111), ('poor', 0.7989814877510071), ('worse', 0.7943255305290222), ('nothing', 0.7809121012687683), ('just', 0.7766373157501221), ('obviously', 0.7740558385848999), ('faith', 0.7691490650177002), ('plenty', 0.7675330638885498)]\n",
      "[('excellent', 0.8916696310043335), ('plenty', 0.8705934286117554), ('interesting', 0.8577498197555542), ('bad', 0.842410147190094), ('quick', 0.8329883217811584), ('nice', 0.828903317451477), ('better', 0.827112078666687), ('definitely', 0.8242558836936951), ('poor', 0.813267171382904), ('nothing', 0.8125602006912231)]\n"
     ]
    }
   ],
   "source": [
    "#  France : Paris = Italy : ?\n",
    "#  Pairs - France + Italy\n",
    "print(w2v.most_similar_cosmul([\"paris\", \"italy\"], [\"france\"]))\n",
    "\n",
    "#  UK : London = France : ?\n",
    "print(w2v.most_similar_cosmul([\"london\", \"france\"], [\"uk\"]))\n",
    "\n",
    "#  Male : King = Female :？\n",
    "print(w2v.most_similar_cosmul([\"king\", \"female\"], [\"male\"]))\n",
    "\n",
    "#  Black : Coffee  = Red : ?\n",
    "print(w2v.most_similar_cosmul([\"coffee\", \"red\"], [\"black\"]))\n",
    "\n",
    "#  Wing : Aircraft = Wheel : ?\n",
    "print(w2v.most_similar_cosmul([\"aircraft\", \"wheel\"], [\"wing\"]))\n",
    "\n",
    "#  Microsoft : Google = Bad : ?\n",
    "print(w2v.most_similar_cosmul([\"google\", \"bad\"], [\"microsoft\"]))\n",
    "\n",
    "#  Microsoft : Google = Good : ?\n",
    "print(w2v.most_similar_cosmul([\"google\", \"good\"], [\"microsoft\"]))\n"
   ]
  },
  {
   "cell_type": "markdown",
   "metadata": {},
   "source": [
    "## Simple Text Classifiction with Word Embeddings"
   ]
  },
  {
   "cell_type": "markdown",
   "metadata": {},
   "source": [
    "Load the dataset"
   ]
  },
  {
   "cell_type": "code",
   "execution_count": 11,
   "metadata": {},
   "outputs": [
    {
     "name": "stderr",
     "output_type": "stream",
     "text": [
      "[nltk_data] Downloading package movie_reviews to\n",
      "[nltk_data]     /Users/stanleychu/nltk_data...\n",
      "[nltk_data]   Unzipping corpora/movie_reviews.zip.\n"
     ]
    },
    {
     "name": "stdout",
     "output_type": "stream",
     "text": [
      "Number of training data 900 (POS) 900 (NEG)\n",
      "Number of test data 100 (POS) 100 (NEG)\n"
     ]
    }
   ],
   "source": [
    "import nltk\n",
    "from nltk.corpus import movie_reviews\n",
    "from collections import Counter\n",
    "\n",
    "nltk.download('movie_reviews')\n",
    "\n",
    "labels = []\n",
    "instances = []\n",
    "\n",
    "pos_reviews = []\n",
    "neg_reviews = []\n",
    "\n",
    "for label in movie_reviews.categories():\n",
    "    for fileid in movie_reviews.fileids(label):\n",
    "        doc = movie_reviews.words(fileid)\n",
    "        if label == 'pos':\n",
    "            pos_reviews.append(\" \".join(doc))\n",
    "        else:\n",
    "            neg_reviews.append(\" \".join(doc))\n",
    "            \n",
    "train_pos_reviews = pos_reviews[:900]\n",
    "train_neg_reviews = neg_reviews[:900]\n",
    "test_pos_reviews = pos_reviews[900:]\n",
    "test_neg_reviews = neg_reviews[900:]\n",
    "\n",
    "print(\"Number of training data %d (POS) %d (NEG)\" % (\n",
    "    len(train_pos_reviews), len(train_neg_reviews)) )\n",
    "print(\"Number of test data %d (POS) %d (NEG)\" % (\n",
    "    len(test_pos_reviews), len(test_neg_reviews)) )"
   ]
  },
  {
   "cell_type": "code",
   "execution_count": 12,
   "metadata": {},
   "outputs": [],
   "source": [
    "train_X = []\n",
    "train_Y = []\n",
    "test_X = []\n",
    "test_Y = []\n",
    "\n",
    "for x in train_pos_reviews:\n",
    "    train_X.append(x)\n",
    "    train_Y.append(1)\n",
    "for x in train_neg_reviews:\n",
    "    train_X.append(x)\n",
    "    train_Y.append(0)\n",
    "    \n",
    "for x in test_pos_reviews:\n",
    "    test_X.append(x)\n",
    "    test_Y.append(1)\n",
    "for x in test_neg_reviews:\n",
    "    test_X.append(x)\n",
    "    test_Y.append(0)"
   ]
  },
  {
   "cell_type": "code",
   "execution_count": 22,
   "metadata": {},
   "outputs": [
    {
     "data": {
      "text/plain": [
       "4261"
      ]
     },
     "execution_count": 22,
     "metadata": {},
     "output_type": "execute_result"
    }
   ],
   "source": [
    "len(train_X[0])"
   ]
  },
  {
   "cell_type": "markdown",
   "metadata": {},
   "source": [
    "Rebuild the old model with one-hot features"
   ]
  },
  {
   "cell_type": "code",
   "execution_count": 29,
   "metadata": {},
   "outputs": [
    {
     "name": "stdout",
     "output_type": "stream",
     "text": [
      "37987\n"
     ]
    }
   ],
   "source": [
    "from sklearn.feature_extraction.text import CountVectorizer\n",
    "\n",
    "feature_extractor = CountVectorizer()\n",
    "training_vectors = feature_extractor.fit_transform(train_X)\n",
    "\n",
    "print(len(feature_extractor.get_feature_names()))"
   ]
  },
  {
   "cell_type": "code",
   "execution_count": 23,
   "metadata": {},
   "outputs": [
    {
     "data": {
      "text/plain": [
       "((1, 37987), 1800)"
      ]
     },
     "execution_count": 23,
     "metadata": {},
     "output_type": "execute_result"
    }
   ],
   "source": [
    "training_vectors[10].shape, len(train_X)"
   ]
  },
  {
   "cell_type": "code",
   "execution_count": 56,
   "metadata": {},
   "outputs": [
    {
     "name": "stderr",
     "output_type": "stream",
     "text": [
      "/usr/local/lib/python3.7/site-packages/sklearn/linear_model/logistic.py:433: FutureWarning: Default solver will be changed to 'lbfgs' in 0.22. Specify a solver to silence this warning.\n",
      "  FutureWarning)\n"
     ]
    },
    {
     "name": "stdout",
     "output_type": "stream",
     "text": [
      "Accuracy: 0.85\tPrecision: 0.850561\tRecall: 0.85\tF-score: 0.84994\n"
     ]
    }
   ],
   "source": [
    "from sklearn.linear_model import LogisticRegression\n",
    "from sklearn.metrics import f1_score, precision_score, recall_score, accuracy_score\n",
    "\n",
    "test_vectors = feature_extractor.transform(test_X)\n",
    "\n",
    "clf = LogisticRegression()\n",
    "clf = clf.fit(training_vectors, train_Y)\n",
    "\n",
    "pred_Y = clf.predict(test_vectors)\n",
    "\n",
    "accuracy = accuracy_score(test_Y, pred_Y)\n",
    "precision = precision_score(test_Y, pred_Y, average='macro')\n",
    "recall = recall_score(test_Y, pred_Y, average='macro')\n",
    "fscore = f1_score(test_Y, pred_Y, average='macro')\n",
    "\n",
    "print(\"Accuracy: %g\\tPrecision: %g\\tRecall: %g\\tF-score: %g\" % (\n",
    "    accuracy, precision, recall, fscore))"
   ]
  },
  {
   "cell_type": "markdown",
   "metadata": {},
   "source": [
    "### Represent the features with word embeddings"
   ]
  },
  {
   "cell_type": "code",
   "execution_count": 57,
   "metadata": {},
   "outputs": [],
   "source": [
    "import numpy\n",
    "\n",
    "training_vectors = []\n",
    "test_vectors = []\n",
    "for x in train_X:\n",
    "    vec = numpy.zeros(300)   # Create a zero vector of dimension 300 \n",
    "    cnt = 0\n",
    "    for w in x:\n",
    "        w = w.lower()\n",
    "        if w in w2v.vocab:\n",
    "            vec += w2v[w]\n",
    "            cnt += 1\n",
    "    training_vectors.append(vec / cnt)  # Normalize\n",
    "    \n",
    "for x in test_X:\n",
    "    vec = numpy.zeros(300)   # Create a zero vector of dimension 300 \n",
    "    cnt = 0\n",
    "    for w in x:\n",
    "        w = w.lower()\n",
    "        if w in w2v.vocab:\n",
    "            vec += w2v[w]\n",
    "            cnt += 1\n",
    "    test_vectors.append(vec / cnt)  # Normalize    "
   ]
  },
  {
   "cell_type": "code",
   "execution_count": 58,
   "metadata": {},
   "outputs": [
    {
     "name": "stdout",
     "output_type": "stream",
     "text": [
      "Accuracy: 0.63\tPrecision: 0.630052\tRecall: 0.63\tF-score: 0.629963\n"
     ]
    }
   ],
   "source": [
    "from sklearn.linear_model import LogisticRegression\n",
    "from sklearn.metrics import f1_score, precision_score, recall_score, accuracy_score\n",
    "\n",
    "clf = LogisticRegression()\n",
    "\n",
    "clf = clf.fit(training_vectors, train_Y)\n",
    "\n",
    "pred_Y = clf.predict(test_vectors)\n",
    "\n",
    "accuracy = accuracy_score(test_Y, pred_Y)\n",
    "precision = precision_score(test_Y, pred_Y, average='macro')\n",
    "recall = recall_score(test_Y, pred_Y, average='macro')\n",
    "fscore = f1_score(test_Y, pred_Y, average='macro')\n",
    "\n",
    "print(\"Accuracy: %g\\tPrecision: %g\\tRecall: %g\\tF-score: %g\" % (\n",
    "    accuracy, precision, recall, fscore))"
   ]
  },
  {
   "cell_type": "code",
   "execution_count": 59,
   "metadata": {},
   "outputs": [
    {
     "name": "stdout",
     "output_type": "stream",
     "text": [
      "Accuracy: 0.66\tPrecision: 0.665358\tRecall: 0.66\tF-score: 0.657224\n"
     ]
    }
   ],
   "source": [
    "from sklearn.neighbors import KNeighborsClassifier\n",
    "\n",
    "clf = KNeighborsClassifier(n_neighbors=50)\n",
    "\n",
    "clf = clf.fit(training_vectors, train_Y)\n",
    "\n",
    "pred_Y = clf.predict(test_vectors)\n",
    "\n",
    "accuracy = accuracy_score(test_Y, pred_Y)\n",
    "precision = precision_score(test_Y, pred_Y, average='macro')\n",
    "recall = recall_score(test_Y, pred_Y, average='macro')\n",
    "fscore = f1_score(test_Y, pred_Y, average='macro')\n",
    "\n",
    "print(\"Accuracy: %g\\tPrecision: %g\\tRecall: %g\\tF-score: %g\" % (\n",
    "    accuracy, precision, recall, fscore))"
   ]
  },
  {
   "cell_type": "markdown",
   "metadata": {},
   "source": [
    "## Train Your Own Word Embeddings"
   ]
  },
  {
   "cell_type": "markdown",
   "metadata": {},
   "source": [
    "Load a corpus. "
   ]
  },
  {
   "cell_type": "code",
   "execution_count": 44,
   "metadata": {},
   "outputs": [
    {
     "name": "stdout",
     "output_type": "stream",
     "text": [
      "Number of characters: 2221405\n"
     ]
    }
   ],
   "source": [
    "with open(\"wealth_of_nations.txt\", encoding=\"utf8\") as fin:\n",
    "    text = fin.read()\n",
    "print(\"Number of characters: %d\" % len(text))"
   ]
  },
  {
   "cell_type": "code",
   "execution_count": 45,
   "metadata": {},
   "outputs": [
    {
     "data": {
      "text/plain": [
       "'\\ufeffAN INQUIRY INTO THE NATURE AND CAUSES OF THE WEALTH OF NATIONS.\\n\\n\\nBy Adam Smith\\n\\n\\n\\n\\nINTRODUCTION AN'"
      ]
     },
     "execution_count": 45,
     "metadata": {},
     "output_type": "execute_result"
    }
   ],
   "source": [
    "text[0:100]"
   ]
  },
  {
   "cell_type": "markdown",
   "metadata": {},
   "source": [
    "## Preprocessing"
   ]
  },
  {
   "cell_type": "markdown",
   "metadata": {},
   "source": [
    "### Sentence Tokenization"
   ]
  },
  {
   "cell_type": "code",
   "execution_count": 46,
   "metadata": {},
   "outputs": [
    {
     "name": "stderr",
     "output_type": "stream",
     "text": [
      "[nltk_data] Downloading package punkt to\n",
      "[nltk_data]     /Users/stanleychu/nltk_data...\n",
      "[nltk_data]   Unzipping tokenizers/punkt.zip.\n",
      "[nltk_data] Downloading package averaged_perceptron_tagger to\n",
      "[nltk_data]     /Users/stanleychu/nltk_data...\n",
      "[nltk_data]   Unzipping taggers/averaged_perceptron_tagger.zip.\n"
     ]
    },
    {
     "name": "stdout",
     "output_type": "stream",
     "text": [
      "Number of sentences: 11914\n",
      "﻿AN INQUIRY INTO THE NATURE AND CAUSES OF THE WEALTH OF NATIONS.\n",
      "By Adam Smith\n",
      "\n",
      "\n",
      "\n",
      "\n",
      "INTRODUCTION AND PLAN OF THE WORK.\n",
      "['\\ufeffAN INQUIRY INTO THE NATURE AND CAUSES OF THE WEALTH OF NATIONS.', 'By Adam Smith\\n\\n\\n\\n\\nINTRODUCTION AND PLAN OF THE WORK.']\n",
      "Each individual becomes\n",
      "more expert in his own peculiar branch, more work is done upon the\n",
      "whole, and the quantity of science is considerably increased by it.\n"
     ]
    }
   ],
   "source": [
    "import nltk\n",
    "nltk.download('punkt')\n",
    "nltk.download('averaged_perceptron_tagger')\n",
    "from nltk.tokenize import sent_tokenize\n",
    "\n",
    "sents = sent_tokenize(text)\n",
    "print(\"Number of sentences: %d\" % len(sents))\n",
    "\n",
    "print(sents[0])\n",
    "print(sents[1])\n",
    "\n",
    "print(sents[:2])\n",
    "\n",
    "print(sents[100])"
   ]
  },
  {
   "cell_type": "markdown",
   "metadata": {},
   "source": [
    "### Word Tokenization"
   ]
  },
  {
   "cell_type": "code",
   "execution_count": 47,
   "metadata": {},
   "outputs": [
    {
     "name": "stderr",
     "output_type": "stream",
     "text": [
      "[nltk_data] Downloading package stopwords to\n",
      "[nltk_data]     /Users/stanleychu/nltk_data...\n",
      "[nltk_data]   Unzipping corpora/stopwords.zip.\n"
     ]
    },
    {
     "name": "stdout",
     "output_type": "stream",
     "text": [
      "['\\ufeffan', 'inquiry', 'into', 'the', 'nature', 'and', 'causes', 'of', 'the', 'wealth', 'of', 'nations', '.']\n",
      "['by', 'adam', 'smith', 'introduction', 'and', 'plan', 'of', 'the', 'work', '.']\n",
      "['each', 'individual', 'becomes', 'more', 'expert', 'in', 'his', 'own', 'peculiar', 'branch', ',', 'more', 'work', 'is', 'done', 'upon', 'the', 'whole', ',', 'and', 'the', 'quantity', 'of', 'science', 'is', 'considerably', 'increased', 'by', 'it', '.']\n"
     ]
    }
   ],
   "source": [
    "from nltk.corpus import stopwords\n",
    "import nltk\n",
    "nltk.download('stopwords')\n",
    "    \n",
    "stopword_list = stopwords.words('english')\n",
    "\n",
    "from nltk.tokenize import word_tokenize\n",
    "\n",
    "sent_tokens = []\n",
    "for sent in sents:\n",
    "    sent_tokens.append(word_tokenize(sent.lower()))\n",
    "\n",
    "print(sent_tokens[0])\n",
    "print(sent_tokens[1])\n",
    "print(sent_tokens[100])\n"
   ]
  },
  {
   "cell_type": "markdown",
   "metadata": {},
   "source": [
    "## Train Word2Vec"
   ]
  },
  {
   "cell_type": "code",
   "execution_count": null,
   "metadata": {},
   "outputs": [
    {
     "name": "stderr",
     "output_type": "stream",
     "text": [
      "/usr/local/lib/python3.7/site-packages/gensim/models/base_any2vec.py:743: UserWarning: C extension not loaded, training will be slow. Install a C compiler and reinstall gensim for fast training.\n",
      "  \"C extension not loaded, training will be slow. \"\n"
     ]
    }
   ],
   "source": [
    "from gensim.models import Word2Vec\n",
    "model = Word2Vec(sent_tokens, min_count=5, size=100, sg=1, hs=1, \n",
    "                 negative=5, iter=10)\n",
    "model = model.wv"
   ]
  },
  {
   "cell_type": "code",
   "execution_count": null,
   "metadata": {},
   "outputs": [],
   "source": [
    "model[\"world\"]"
   ]
  },
  {
   "cell_type": "code",
   "execution_count": 95,
   "metadata": {},
   "outputs": [
    {
     "name": "stdout",
     "output_type": "stream",
     "text": [
      "[ 1.4965710e-01  8.9999783e-01 -2.7341968e-01 -5.4190171e-01\n",
      "  4.6533355e-01  3.6821780e-01 -3.9926213e-01 -2.7450228e-01\n",
      "  5.5360770e-01  5.7483923e-01 -5.0034893e-01 -2.8746646e-02\n",
      " -3.0945748e-01 -7.7668234e-04 -3.8674289e-01 -7.3370892e-01\n",
      " -4.8959944e-01  5.6995571e-01 -7.4154139e-02  5.6896901e-01\n",
      " -8.1946127e-02 -3.4786280e-02 -5.8615762e-01  1.7376624e-02\n",
      " -3.9412248e-01 -3.9087114e-01 -8.8845603e-02 -1.6040827e-01\n",
      "  2.3968397e-02  5.6478437e-02 -1.3350949e-01  3.1514370e-01\n",
      "  7.8477208e-03 -8.4895283e-02 -8.2977611e-01  2.1043907e-01\n",
      " -3.1686732e-01  1.5922801e-01 -3.8107836e-01 -1.1311939e-01\n",
      "  5.2563435e-01  8.1516579e-03  3.1062093e-01  4.2961445e-01\n",
      " -3.6186624e-01 -1.9492592e-01  1.3820700e-01  2.4804936e-01\n",
      " -2.8877553e-01  3.4208536e-01  2.1558356e-01  5.7076985e-01\n",
      " -4.3200120e-01 -1.1223202e-01  3.7022939e-01  1.9982339e-01\n",
      "  5.1119804e-01 -1.8932918e-01 -3.2881565e-02 -4.1473678e-01\n",
      "  5.5982018e-01 -1.1138938e-01 -3.1242254e-01 -5.0720345e-02\n",
      "  3.2092154e-02  3.8152397e-01 -3.0781990e-01 -5.8064200e-02\n",
      "  5.8336818e-01  9.1178089e-01  3.9200568e-01  9.4424002e-02\n",
      " -2.8794482e-01  7.4252063e-01  5.8275497e-01 -4.6200519e-03\n",
      "  1.5210639e-01 -4.7457469e-01 -1.2631117e-01  9.1119446e-03\n",
      "  1.5733667e-02  5.7949030e-01  2.1803233e-01 -3.1391296e-01\n",
      "  3.7281461e-02  1.3209079e-02  2.2192128e-01  5.8625199e-02\n",
      "  1.6004652e-01  7.0450354e-01 -4.5691627e-01  1.3636991e-01\n",
      "  8.4281400e-02  4.2992786e-01 -7.8006394e-02  1.7698957e-01\n",
      " -2.9329780e-01 -5.8594954e-01  2.9308039e-01 -6.8729758e-01]\n",
      "100\n"
     ]
    }
   ],
   "source": [
    "print(model[\"class\"])\n",
    "print(len(model[\"class\"]))"
   ]
  },
  {
   "cell_type": "code",
   "execution_count": 97,
   "metadata": {},
   "outputs": [
    {
     "name": "stdout",
     "output_type": "stream",
     "text": [
      "Number of words: 3976\n"
     ]
    }
   ],
   "source": [
    "print(\"Number of words: %d\" % len(model.vocab))"
   ]
  },
  {
   "cell_type": "markdown",
   "metadata": {},
   "source": [
    "## Similarity"
   ]
  },
  {
   "cell_type": "code",
   "execution_count": 98,
   "metadata": {},
   "outputs": [
    {
     "name": "stdout",
     "output_type": "stream",
     "text": [
      "[('riches', 0.6278215646743774), ('greatness', 0.5907753705978394), ('prosperity', 0.5893980860710144), ('population', 0.5893774032592773), ('scantiness', 0.5826501250267029), ('flourishing', 0.5545831918716431), ('declension', 0.5489140748977661), ('increase', 0.527804970741272), ('abundance', 0.5212849378585815), ('populousness', 0.5200366973876953)]\n",
      "[('nations', 0.6225824356079102), ('country', 0.5454011559486389), ('civilized', 0.5419918298721313), ('barbarous', 0.4908297657966614), ('shepherds', 0.4878070652484894), ('tribe', 0.4803987741470337), ('hunters', 0.4699052572250366), ('riches', 0.4605660140514374), ('scantiness', 0.45589399337768555), ('monarchy', 0.4548380374908447)]\n",
      "[('paper', 0.6036133766174316), ('holders', 0.5955257415771484), ('bank', 0.5644773244857788), ('sum', 0.5491753220558167), ('deed', 0.5359117984771729), ('currency', 0.532559871673584), ('bore', 0.5325477123260498), ('bills', 0.5316023230552673), ('assignment', 0.5233144164085388), ('credit', 0.5188088417053223)]\n"
     ]
    }
   ],
   "source": [
    "print(model.most_similar(\"wealth\"))\n",
    "print(model.most_similar(\"nation\"))\n",
    "print(model.most_similar(\"money\"))"
   ]
  },
  {
   "cell_type": "code",
   "execution_count": 99,
   "metadata": {},
   "outputs": [
    {
     "name": "stdout",
     "output_type": "stream",
     "text": [
      "Distance between class and classes: 0.455223\n",
      "Distance between country and national: 0.545401\n",
      "Distance between rich and poor: 0.612935\n"
     ]
    }
   ],
   "source": [
    "print(\"Distance between %s and %s: %f\" % (\"class\", \"classes\", model.similarity(\"class\", \"classes\")))\n",
    "print(\"Distance between %s and %s: %f\" % (\"country\", \"national\", model.similarity(\"country\", \"nation\")))\n",
    "print(\"Distance between %s and %s: %f\" % (\"rich\", \"poor\", model.similarity(\"rich\", \"poor\")))"
   ]
  },
  {
   "cell_type": "code",
   "execution_count": 100,
   "metadata": {},
   "outputs": [
    {
     "name": "stdout",
     "output_type": "stream",
     "text": [
      "[('tenant', 0.8804593682289124), ('rent', 0.8622018694877625), ('labourer', 0.8597228527069092), ('real', 0.8416550755500793), ('land', 0.8403441309928894), ('necessaries', 0.8393978476524353), ('indirectly', 0.8281274437904358), ('tending', 0.8028601408004761), ('belongs', 0.7976264357566833), ('finally', 0.7956637144088745)]\n"
     ]
    }
   ],
   "source": [
    "#  Capital : Landlord = Labour : ?\n",
    "print(model.most_similar_cosmul([\"landlord\", \"labour\"], [\"capital\"]))"
   ]
  },
  {
   "cell_type": "markdown",
   "metadata": {},
   "source": [
    "## Visualization"
   ]
  },
  {
   "cell_type": "code",
   "execution_count": 101,
   "metadata": {},
   "outputs": [],
   "source": [
    "%matplotlib inline\n",
    "import matplotlib.pyplot as plt"
   ]
  },
  {
   "cell_type": "code",
   "execution_count": 102,
   "metadata": {},
   "outputs": [
    {
     "data": {
      "image/png": "[encoded data removed]",
      "text/plain": [
       "<Figure size 432x288 with 1 Axes>"
      ]
     },
     "metadata": {
      "needs_background": "light"
     },
     "output_type": "display_data"
    }
   ],
   "source": [
    "plt.scatter(x=[1, 3], y=[-2, 4])\n",
    "plt.axis('equal');"
   ]
  },
  {
   "cell_type": "markdown",
   "metadata": {},
   "source": [
    "## Principal Component Analysis"
   ]
  },
  {
   "cell_type": "code",
   "execution_count": 103,
   "metadata": {},
   "outputs": [
    {
     "data": {
      "text/plain": [
       "PCA(copy=True, iterated_power='auto', n_components=2, random_state=None,\n",
       "  svd_solver='auto', tol=0.0, whiten=False)"
      ]
     },
     "execution_count": 103,
     "metadata": {},
     "output_type": "execute_result"
    }
   ],
   "source": [
    "from sklearn.decomposition import PCA\n",
    "pca = PCA(n_components=2)\n",
    "\n",
    "words = [\"landlord\", \"labour\", \"labourer\", \"class\", \"rich\", \"money\", \"wealth\", \"farmer\"]\n",
    "X = []\n",
    "for word in words:\n",
    "    X.append(model[word])\n",
    "pca.fit(X)"
   ]
  },
  {
   "cell_type": "code",
   "execution_count": 104,
   "metadata": {},
   "outputs": [
    {
     "name": "stdout",
     "output_type": "stream",
     "text": [
      "[[-1.60534733  0.11767546]\n",
      " [ 0.15999342  0.33093661]\n",
      " [-1.01121981  0.03209693]\n",
      " [ 1.88218956  2.42877069]\n",
      " [ 0.97566394 -0.47851246]\n",
      " [-0.65906295 -1.07014411]\n",
      " [ 1.77839722 -2.03415467]\n",
      " [-1.52061405  0.67333156]]\n"
     ]
    }
   ],
   "source": [
    "points = pca.transform(X)\n",
    "\n",
    "print(points)"
   ]
  },
  {
   "cell_type": "code",
   "execution_count": 105,
   "metadata": {},
   "outputs": [
    {
     "data": {
      "image/png": "[encoded data removed]",
      "text/plain": [
       "<Figure size 432x288 with 1 Axes>"
      ]
     },
     "metadata": {
      "needs_background": "light"
     },
     "output_type": "display_data"
    }
   ],
   "source": [
    "for i in range(len(points)):\n",
    "    label = words[i]\n",
    "    x = points[i][0]\n",
    "    y = points[i][1]\n",
    "    plt.scatter(x, y)\n",
    "    plt.annotate(label, xy=(x, y))\n",
    "plt.axis('equal');"
   ]
  },
  {
   "cell_type": "code",
   "execution_count": 106,
   "metadata": {},
   "outputs": [
    {
     "data": {
      "image/png": "[encoded data removed]",
      "text/plain": [
       "<Figure size 432x288 with 1 Axes>"
      ]
     },
     "metadata": {
      "needs_background": "light"
     },
     "output_type": "display_data"
    }
   ],
   "source": [
    "from sklearn.decomposition import PCA\n",
    "pca = PCA(n_components=2)\n",
    "\n",
    "words = [\"france\", \"usa\", \"uk\", \"china\", \"taiwan\", \"german\", \"italy\", \"ireland\", \"england\", \"scotland\", \"japan\", \"india\", \"russia\"]\n",
    "X = []\n",
    "for word in words:\n",
    "    X.append(w2v[word])\n",
    "pca.fit(X)\n",
    "points = pca.transform(X)\n",
    "\n",
    "for i in range(len(points)):\n",
    "    label = words[i]\n",
    "    x = points[i][0]\n",
    "    y = points[i][1]\n",
    "    plt.scatter(x, y)\n",
    "    plt.annotate(label, xy=(x, y))\n",
    "plt.axis('equal');"
   ]
  },
  {
   "cell_type": "code",
   "execution_count": null,
   "metadata": {},
   "outputs": [],
   "source": []
  }
 ],
 "metadata": {
  "kernelspec": {
   "display_name": "Python 3",
   "language": "python",
   "name": "python3"
  },
  "language_info": {
   "codemirror_mode": {
    "name": "ipython",
    "version": 3
   },
   "file_extension": ".py",
   "mimetype": "text/x-python",
   "name": "python",
   "nbconvert_exporter": "python",
   "pygments_lexer": "ipython3",
   "version": "3.7.7"
  }
 },
 "nbformat": 4,
 "nbformat_minor": 1
}
