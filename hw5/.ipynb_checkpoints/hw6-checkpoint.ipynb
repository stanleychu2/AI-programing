{
 "cells": [
  {
   "cell_type": "markdown",
   "metadata": {},
   "source": [
    "### IMDB-RNN\n",
    "- MaxLen: 128\n",
    "- Words: 10000, Embeddding: 128\n",
    "- Batch_size: 64, Epochs: 10\n",
    "- Optimizer: RMSprop --> Adam, Lr: 1e-3\n",
    "- Loss: binary crossentropy\n",
    "- RNN: 2 layer GRU(64, 128)\n",
    "- Evalution: AUC"
   ]
  },
  {
   "cell_type": "code",
   "execution_count": 1,
   "metadata": {},
   "outputs": [],
   "source": [
    "%matplotlib inline\n",
    "\n",
    "import numpy as np \n",
    "import matplotlib.pyplot as plt\n",
    "from tensorflow.keras.models import Model\n",
    "from tensorflow.keras.layers import Input, Dropout, Embedding, Dense, GRU\n",
    "from tensorflow.keras.datasets import imdb\n",
    "from tensorflow.keras.preprocessing.sequence import pad_sequences\n",
    "from tensorflow.keras.optimizers import Adam"
   ]
  },
  {
   "cell_type": "code",
   "execution_count": 2,
   "metadata": {},
   "outputs": [
    {
     "name": "stdout",
     "output_type": "stream",
     "text": [
      "Downloading data from https://storage.googleapis.com/tensorflow/tf-keras-datasets/imdb.npz\n",
      "17465344/17464789 [==============================] - 0s 0us/step\n"
     ]
    }
   ],
   "source": [
    "(x_train, y_train), (x_test, y_test) = imdb.load_data(num_words=10000)"
   ]
  },
  {
   "cell_type": "code",
   "execution_count": 3,
   "metadata": {},
   "outputs": [
    {
     "name": "stdout",
     "output_type": "stream",
     "text": [
      "positive: in train: 50.0%\n",
      "positive: in test: 50.0%\n",
      "\n"
     ]
    }
   ],
   "source": [
    "train_values = sum([ i==1 for i in y_train])\n",
    "test_values = sum([ i==1 for i in y_test])\n",
    "\n",
    "print(f\"positive: in train: {train_values/y_train.size * 100}%\\npositive: in test: {test_values/y_test.size * 100}%\\n\")\n"
   ]
  },
  {
   "cell_type": "code",
   "execution_count": 4,
   "metadata": {},
   "outputs": [],
   "source": [
    "class config:\n",
    "    MAXLEN = 128\n",
    "    EMBEDDING_DIM = 128\n",
    "    BATCH_SIZE = 64\n",
    "    EPOCHS = 3"
   ]
  },
  {
   "cell_type": "code",
   "execution_count": 5,
   "metadata": {},
   "outputs": [],
   "source": [
    "x_train = pad_sequences(x_train, maxlen=config.MAXLEN)\n",
    "x_test = pad_sequences(x_test, maxlen=config.MAXLEN)"
   ]
  },
  {
   "cell_type": "code",
   "execution_count": 6,
   "metadata": {},
   "outputs": [],
   "source": [
    "imdb_input = Input((config.MAXLEN, ), name=\"input\")\n",
    "e = Embedding(12000, config.EMBEDDING_DIM, name=\"embeddding\")(imdb_input)\n",
    "gru1 = GRU(64, dropout=0.3, recurrent_dropout=0.2, name=\"gru1\", return_sequences=True)(e)\n",
    "gru2 = GRU(128, dropout=0.2, recurrent_dropout=0.2, name=\"gru2\", return_sequences=False)(gru1)\n",
    "output = Dense(1, activation=\"sigmoid\")(gru2)\n",
    "model = Model(inputs=[imdb_input], outputs=output)"
   ]
  },
  {
   "cell_type": "code",
   "execution_count": 7,
   "metadata": {},
   "outputs": [
    {
     "name": "stdout",
     "output_type": "stream",
     "text": [
      "Model: \"model\"\n",
      "_________________________________________________________________\n",
      "Layer (type)                 Output Shape              Param #   \n",
      "=================================================================\n",
      "input (InputLayer)           [(None, 128)]             0         \n",
      "_________________________________________________________________\n",
      "embeddding (Embedding)       (None, 128, 128)          1536000   \n",
      "_________________________________________________________________\n",
      "gru1 (GRU)                   (None, 128, 64)           37248     \n",
      "_________________________________________________________________\n",
      "gru2 (GRU)                   (None, 128)               74496     \n",
      "_________________________________________________________________\n",
      "dense (Dense)                (None, 1)                 129       \n",
      "=================================================================\n",
      "Total params: 1,647,873\n",
      "Trainable params: 1,647,873\n",
      "Non-trainable params: 0\n",
      "_________________________________________________________________\n"
     ]
    }
   ],
   "source": [
    "model.summary()"
   ]
  },
  {
   "cell_type": "code",
   "execution_count": 8,
   "metadata": {},
   "outputs": [],
   "source": [
    "model.compile(loss=\"binary_crossentropy\", optimizer=Adam(lr=1e-3), metrics=[\"accuracy\"])"
   ]
  },
  {
   "cell_type": "code",
   "execution_count": 9,
   "metadata": {},
   "outputs": [
    {
     "name": "stdout",
     "output_type": "stream",
     "text": [
      "Train on 25000 samples, validate on 25000 samples\n",
      "Epoch 1/3\n",
      "25000/25000 [==============================] - 164s 7ms/sample - loss: 0.4925 - accuracy: 0.7597 - val_loss: 0.3750 - val_accuracy: 0.8366\n",
      "Epoch 2/3\n",
      "25000/25000 [==============================] - 159s 6ms/sample - loss: 0.3214 - accuracy: 0.8671 - val_loss: 0.3394 - val_accuracy: 0.8562\n",
      "Epoch 3/3\n",
      "25000/25000 [==============================] - 156s 6ms/sample - loss: 0.2420 - accuracy: 0.9059 - val_loss: 0.3387 - val_accuracy: 0.8558\n",
      "CPU times: user 25min 12s, sys: 2min 26s, total: 27min 39s\n",
      "Wall time: 7min 59s\n"
     ]
    }
   ],
   "source": [
    "%%time\n",
    "\n",
    "history = model.fit(x_train, y_train, epochs=config.EPOCHS, batch_size=config.BATCH_SIZE, validation_data=(x_test, y_test))"
   ]
  },
  {
   "cell_type": "code",
   "execution_count": 10,
   "metadata": {},
   "outputs": [
    {
     "data": {
      "text/plain": [
       "Text(0, 0.5, 'Accuracy')"
      ]
     },
     "execution_count": 10,
     "metadata": {},
     "output_type": "execute_result"
    },
    {
     "data": {
      "image/png": "[encoded data removed]",
      "text/plain": [
       "<Figure size 432x288 with 1 Axes>"
      ]
     },
     "metadata": {
      "needs_background": "light"
     },
     "output_type": "display_data"
    }
   ],
   "source": [
    "plt.plot(history.history[\"val_accuracy\"])\n",
    "plt.plot(history.history[\"accuracy\"])\n",
    "plt.xlabel(\"Epochs\")\n",
    "plt.ylabel(\"Accuracy\")"
   ]
  },
  {
   "cell_type": "code",
   "execution_count": 12,
   "metadata": {},
   "outputs": [
    {
     "name": "stdout",
     "output_type": "stream",
     "text": [
      "25000/25000 [==============================] - 36s 1ms/sample - loss: 0.3387 - accuracy: 0.8558\n",
      "loss:  0.3387\n",
      "accuracy:  85.58%\n"
     ]
    }
   ],
   "source": [
    "loss, score = model.evaluate(x_test, y_test)\n",
    "predict = model.predict(x_test)\n",
    "print(f\"loss: {loss: .4f}\\naccuracy: {score * 100: .2f}%\")"
   ]
  },
  {
   "cell_type": "code",
   "execution_count": 16,
   "metadata": {},
   "outputs": [
    {
     "name": "stdout",
     "output_type": "stream",
     "text": [
      "AUC score:  0.933\n"
     ]
    }
   ],
   "source": [
    "from sklearn.metrics import roc_auc_score\n",
    "\n",
    "auc = roc_auc_score(y_test, predict)\n",
    "print(f\"AUC score: {auc: .3f}\")"
   ]
  }
 ],
 "metadata": {
  "kernelspec": {
   "display_name": "Python 3",
   "language": "python",
   "name": "python3"
  },
  "language_info": {
   "codemirror_mode": {
    "name": "ipython",
    "version": 3
   },
   "file_extension": ".py",
   "mimetype": "text/x-python",
   "name": "python",
   "nbconvert_exporter": "python",
   "pygments_lexer": "ipython3",
   "version": "3.7.6"
  }
 },
 "nbformat": 4,
 "nbformat_minor": 4
}
