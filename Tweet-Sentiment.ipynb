{
 "cells": [
  {
   "cell_type": "code",
   "execution_count": 75,
   "metadata": {},
   "outputs": [],
   "source": [
    "import pandas as pd\n",
    "import glob\n",
    "import numpy as np "
   ]
  },
  {
   "cell_type": "code",
   "execution_count": 52,
   "metadata": {},
   "outputs": [
    {
     "data": {
      "text/plain": [
       "['tweet-sentiment-extraction/test.csv',\n",
       " 'tweet-sentiment-extraction/train.csv',\n",
       " 'tweet-sentiment-extraction/sample_submission.csv']"
      ]
     },
     "execution_count": 52,
     "metadata": {},
     "output_type": "execute_result"
    }
   ],
   "source": [
    "glob.glob(\"tweet-sentiment-extraction/*.csv\")"
   ]
  },
  {
   "cell_type": "code",
   "execution_count": 99,
   "metadata": {},
   "outputs": [],
   "source": [
    "train_csv = pd.read_csv(\"tweet-sentiment-extraction/train.csv\", index_col=\"textID\")\n",
    "test_csv = pd.read_csv(\"tweet-sentiment-extraction/test.csv\", index_col=\"textID\")\n",
    "submit = pd.read_csv(\"tweet-sentiment-extraction/sample_submission.csv\")"
   ]
  },
  {
   "cell_type": "code",
   "execution_count": 15,
   "metadata": {},
   "outputs": [
    {
     "name": "stdout",
     "output_type": "stream",
     "text": [
      "<class 'pandas.core.frame.DataFrame'>\n",
      "Index: 27486 entries, a3d0a7d5ad to 1c1f3724db\n",
      "Data columns (total 3 columns):\n",
      "text             27485 non-null object\n",
      "selected_text    27485 non-null object\n",
      "sentiment        27486 non-null object\n",
      "dtypes: object(3)\n",
      "memory usage: 858.9+ KB\n"
     ]
    }
   ],
   "source": [
    "train_csv.info()"
   ]
  },
  {
   "cell_type": "code",
   "execution_count": 104,
   "metadata": {},
   "outputs": [
    {
     "name": "stdout",
     "output_type": "stream",
     "text": [
      "<class 'pandas.core.frame.DataFrame'>\n",
      "Index: 3535 entries, 11aa4945ff to aa1a163174\n",
      "Data columns (total 2 columns):\n",
      "text         3535 non-null object\n",
      "sentiment    3535 non-null object\n",
      "dtypes: object(2)\n",
      "memory usage: 82.9+ KB\n"
     ]
    }
   ],
   "source": [
    "test_csv.info()"
   ]
  },
  {
   "cell_type": "code",
   "execution_count": 68,
   "metadata": {},
   "outputs": [],
   "source": [
    "# remove the null item in the train file\n",
    "train_csv = train_csv[~((train_csv['text'].isnull()) | (train_csv['selected_text'].isnull()))]"
   ]
  },
  {
   "cell_type": "code",
   "execution_count": 9,
   "metadata": {},
   "outputs": [],
   "source": [
    "import torch\n",
    "from transformers import BertTokenizer"
   ]
  },
  {
   "cell_type": "code",
   "execution_count": 11,
   "metadata": {},
   "outputs": [],
   "source": [
    "PRETRAINED_MODEL_NAME = \"bert-large-cased\"\n",
    "tokenizer = BertTokenizer.from_pretrained(PRETRAINED_MODEL_NAME)\n"
   ]
  },
  {
   "cell_type": "code",
   "execution_count": 36,
   "metadata": {},
   "outputs": [
    {
     "name": "stdout",
     "output_type": "stream",
     "text": [
      "字典大小： 28996\n"
     ]
    }
   ],
   "source": [
    "vocab = tokenizer.vocab\n",
    "print(\"字典大小：\", len(vocab))"
   ]
  },
  {
   "cell_type": "code",
   "execution_count": 45,
   "metadata": {},
   "outputs": [
    {
     "name": "stdout",
     "output_type": "stream",
     "text": [
      "Convert token to id\n",
      "['I', 'have', 'an', 'apple'] ---> [146, 1138, 1126, 12075]\n"
     ]
    }
   ],
   "source": [
    "token = tokenizer.tokenize(\"I have an apple\")\n",
    "print(\"Convert token to id\")\n",
    "print(f\"{token} ---> {tokenizer.convert_tokens_to_ids(token)}\")"
   ]
  },
  {
   "cell_type": "code",
   "execution_count": 88,
   "metadata": {},
   "outputs": [
    {
     "name": "stdout",
     "output_type": "stream",
     "text": [
      "train data remains after selecting: 21139\n"
     ]
    }
   ],
   "source": [
    "# selecting the length of the text is less than 100 or equal to 100\n",
    "MAX_LENGTH = 100\n",
    "train_csv = train_csv[train_csv[\"text\"].apply(lambda x: len(x)) <= MAX_LENGTH]\n",
    "train_csv = train_csv[train_csv[\"selected_text\"].apply(lambda x: len(x)) <= MAX_LENGTH]\n",
    "print(f\"train data remains after selecting: {len(train_csv)}\")"
   ]
  },
  {
   "cell_type": "code",
   "execution_count": 106,
   "metadata": {},
   "outputs": [],
   "source": [
    "train_csv.columns = [\"text1\", \"text2\", \"label\"]\n",
    "# idempotence, 將處理結果另存成 tsv 供 PyTorch 使用\n",
    "train_csv.to_csv(\"train.tsv\", sep=\"\\t\", index=False)"
   ]
  },
  {
   "cell_type": "code",
   "execution_count": 120,
   "metadata": {},
   "outputs": [
    {
     "data": {
      "text/plain": [
       "neutral     11118\n",
       "positive     8582\n",
       "negative     7786\n",
       "Name: label, dtype: int64"
      ]
     },
     "execution_count": 120,
     "metadata": {},
     "output_type": "execute_result"
    }
   ],
   "source": [
    "train_csv[\"label\"].value_counts()"
   ]
  },
  {
   "cell_type": "code",
   "execution_count": null,
   "metadata": {},
   "outputs": [],
   "source": [
    "#  jaccard "
   ]
  }
 ],
 "metadata": {
  "kernelspec": {
   "display_name": "Python 3",
   "language": "python",
   "name": "python3"
  },
  "language_info": {
   "codemirror_mode": {
    "name": "ipython",
    "version": 3
   },
   "file_extension": ".py",
   "mimetype": "text/x-python",
   "name": "python",
   "nbconvert_exporter": "python",
   "pygments_lexer": "ipython3",
   "version": "3.7.6"
  }
 },
 "nbformat": 4,
 "nbformat_minor": 2
}
